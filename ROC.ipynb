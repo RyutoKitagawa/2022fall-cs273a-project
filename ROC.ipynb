{
 "cells": [
  {
   "cell_type": "code",
   "execution_count": 44,
   "id": "66e6302f-bda4-4a5f-b91d-e7eee00e9f3a",
   "metadata": {},
   "outputs": [],
   "source": [
    "import torch\n",
    "import torch.nn as nn\n",
    "import torch.nn.functional as F\n",
    "import matplotlib.pyplot as plt\n",
    "from tqdm import tqdm\n",
    "\n",
    "import torch.optim as optim\n",
    "\n",
    "import random as rand\n",
    "\n",
    "from sklearn import metrics"
   ]
  },
  {
   "cell_type": "code",
   "execution_count": 109,
   "id": "2145394f-5d01-4d3b-9a31-d389f89c7690",
   "metadata": {},
   "outputs": [],
   "source": [
    "class Pokemon:\n",
    "    def __init__(self, index, hp, inplay):\n",
    "        self.index = index\n",
    "        self.hp = hp\n",
    "        self.inplay = inplay\n",
    "\n",
    "    def __str__(self):\n",
    "        return f\"({pkms[self.index]}, HP: {self.hp}, InPlay: {'T' if self.inplay else 'F'})\"\n",
    "\n",
    "    def __repr__(self):\n",
    "        return str(self)\n",
    "\n",
    "class Decison:\n",
    "    def __init__(self, mos, data):\n",
    "        self.mos = mos\n",
    "        self.data = data\n",
    "\n",
    "    def __str__(self):\n",
    "        return f\"Attack using {moves[self.data]}\" if self.mos else f\"Switch to {pkms[self.data]}\"\n",
    "\n",
    "    def __repr__(self):\n",
    "        return str(self)\n",
    "\n",
    "class DataPoint:\n",
    "    def __init__(self, team1, team2, decisions):\n",
    "        self.team1, self.team2, self.decisions = [], [], []\n",
    "\n",
    "        for pokemon in team1.split('\\n'):\n",
    "            index, hp, inplay = pokemon.split(',')\n",
    "            self.team1.append(Pokemon(int(index), float(hp), inplay == 'True'))\n",
    "        \n",
    "        for pokemon in team2.split('\\n'):\n",
    "            index, hp, inplay = pokemon.split(',')\n",
    "            self.team2.append(Pokemon(int(index), float(hp), inplay == 'True'))\n",
    "\n",
    "        for decision in decisions.split('\\n'):\n",
    "            mos, data = decision.split(',')\n",
    "            self.decisions.append(Decison(mos == 'True', int(data)))\n",
    "\n",
    "class NeuralNetwork(nn.Module):\n",
    "    def __init__(self, pkm, moves):\n",
    "        super(NeuralNetwork, self).__init__()\n",
    "\n",
    "    def bulk_predict(self, data):\n",
    "        result = []\n",
    "        count = 0\n",
    "        for i, d in enumerate(data):\n",
    "            try:\n",
    "                result.append((i, self.predict(d)))\n",
    "            except Exception as e:\n",
    "                count += 1\n",
    "                pass\n",
    "\n",
    "        print(count)\n",
    "        return result\n",
    "\n",
    "    def train(self, data):\n",
    "        optimizer = optim.SGD(self.parameters(), lr=0.5)\n",
    "\n",
    "        epoch, batch_size = 500, 300\n",
    "        indexes = [i for i in range(len(data))]\n",
    "\n",
    "        for _ in tqdm(range(epoch)):\n",
    "            for i in indexes:\n",
    "                optimizer.zero_grad()\n",
    "\n",
    "                # Get the targets from the data\n",
    "                target = self.get_target(data[i])\n",
    "\n",
    "                try:\n",
    "                    output = [j for j in self.predict(data[i])]\n",
    "                    loss = F.binary_cross_entropy(output, target)\n",
    "                    loss.backward()\n",
    "                    optimizer.step()\n",
    "\n",
    "                    if loss < 0.1:\n",
    "                        break\n",
    "\n",
    "                except Exception as e:\n",
    "                    pass\n",
    "\n",
    "    def save(self, path):\n",
    "        torch.save(self.state_dict(), path)\n",
    "\n",
    "    def load(self, path):\n",
    "        self.load_state_dict(torch.load(path))\n",
    "\n",
    "    def predict(self, data):\n",
    "        team1, team2 = [int(i.index == j) for i in data.team1 for j in range(21)], [int(i.index == 0) for i in data.team2 for j in range(21)]\n",
    "        team1hp, team2hp = [i.hp for i in data.team1], [i.hp for i in data.team2]\n",
    "        team1cur, team2cur = [int(i.inplay) for i in data.team1], [int(i.inplay) for i in data.team2]\n",
    "        features = torch.tensor(team1 + team1hp + team1cur + team2 + team2hp + team2cur)\n",
    "        output = self.forward(torch.tensor(features))\n",
    "\n",
    "        return output\n",
    "\n",
    "    def forward(self, x):\n",
    "        for layer in self.layers:\n",
    "            x = F.relu(layer(x))\n",
    "\n",
    "        return F.softmax(x, dim = 0)\n",
    "\n",
    "\n",
    "# Class that inherits from the NeuralNetwork and \n",
    "class AttackOrSwitchNN(NeuralNetwork):\n",
    "    def __init__(self, pkm, moves):\n",
    "        super().__init__(pkm, moves)\n",
    "\n",
    "        inputNum, outputNum = 21 * 6 + 6 + 6 + 21 * 6 + 6 + 6, 2\n",
    "        self.pkm, self.moves = pkm, moves\n",
    "\n",
    "        # Input layer represnts the pokemon and their hp and which pokemon is currently in play\n",
    "        # The first hidden layer is meant to consider the hp of the pokemon of each player's active pokemon\n",
    "        # The second hidden layer is meant to decide if there is a pokemon that can be switched in\n",
    "        # The third hidden layer is meant to decide if there is a pokemon that can be switched in\n",
    "        # This culminates into the output layer which ultimately decides if player 1 and player 2 should attack or switch\n",
    "        layerSizes = [inputNum, (inputNum + outputNum + 10) // 2, outputNum]\n",
    "\n",
    "        self.layers = nn.ModuleList()\n",
    "        for i in range(len(layerSizes) - 1):\n",
    "            self.layers.append(nn.Linear(layerSizes[i], layerSizes[i + 1]))\n",
    "\n",
    "    def get_target(self, data):\n",
    "        return torch.tensor([float(data.decisions[0].mos), float(data.decisions[1].mos)])\n",
    "\n",
    "    def predict_print(self, data):\n",
    "        output = self.predict(data)\n",
    "\n",
    "        print('Player 1:', 'Attack' if output[0] > 0.5 else 'Switch')\n",
    "        print('Player 2:', 'Attack' if output[1] > 0.5 else 'Switch')\n",
    "\n",
    "    def calculate_error(self, data):\n",
    "        correct, total = 0, len(data) * 2\n",
    "        \n",
    "        for d in data:\n",
    "            try:\n",
    "                output = self.predict(d)\n",
    "\n",
    "                correct += int((output[0] > 0.5 and d.decisions[0].mos) or (output[0] < 0.5 and not d.decisions[0].mos))\n",
    "                correct += int((output[1] > 0.5 and d.decisions[1].mos) or (output[1] < 0.5 and not d.decisions[1].mos))\n",
    "\n",
    "            except Exception as e:\n",
    "                total -= 1\n",
    "        \n",
    "        print(f'{total - correct} / {total}')\n",
    "        return 1 - correct / total"
   ]
  },
  {
   "cell_type": "code",
   "execution_count": 22,
   "id": "95e3b4ab-e65a-4413-bae0-87c4c899022f",
   "metadata": {
    "tags": []
   },
   "outputs": [
    {
     "name": "stdout",
     "output_type": "stream",
     "text": [
      "Loading Pokemon Data ...\n",
      "['learningModel', 'output_data', 'README.md', '.ipynb_checkpoints', 'gatherData', '.git', 'output.txt', 'ROC.ipynb', 'data', 'Makefile', 'models']\n",
      "Loading Move Data ...\n",
      "Loading Training Data ...\n",
      "Splitting Data ...\n"
     ]
    }
   ],
   "source": [
    "print('Loading Pokemon Data ...')\n",
    "import os\n",
    "print(os.listdir())\n",
    "with open('data/unique_pokemon.csv', 'r') as f:\n",
    "    pkms = f.read().split(',')\n",
    "\n",
    "print('Loading Move Data ...')\n",
    "with open('data/unique_moves.csv', 'r') as f:\n",
    "    moves = f.read().split(',')\n",
    "\n",
    "print('Loading Training Data ...')\n",
    "with open('data/datapoints.csv', 'r') as f:\n",
    "    count = 0\n",
    "    print('Splitting Data ...')\n",
    "    data, datapoints = [], f.read().split('\\n|-o-|\\n')\n",
    "    for datapoint in datapoints:\n",
    "        if len(datapoint.split('\\n|-s-|\\n')) == 3:\n",
    "            team1, team2, decisions = datapoint.split('\\n|-s-|\\n')\n",
    "            data.append(DataPoint(team1, team2, decisions))\n",
    "\n",
    "training_data_ratio = 0.6\n",
    "training_data = data[:int(len(data) * training_data_ratio)]\n",
    "testing_data = data[int(len(data) * training_data_ratio):]"
   ]
  },
  {
   "cell_type": "code",
   "execution_count": 370,
   "id": "41fb0c13-9e58-4433-96c1-6988053a55bc",
   "metadata": {},
   "outputs": [],
   "source": [
    "net = AttackOrSwitchNN(pkms, moves)\n",
    "net.train(training_data)\n",
    "#net.load('models/attackSwitch.model')"
   ]
  },
  {
   "cell_type": "code",
   "execution_count": 371,
   "id": "0d6ace9d-e28b-432a-b3e0-deb9b8503315",
   "metadata": {},
   "outputs": [
    {
     "name": "stdout",
     "output_type": "stream",
     "text": [
      "2235 / 2235\n",
      "Training Error Rate: 1.0\n",
      "1491 / 1491\n",
      "Test Error Rate: 1.0\n"
     ]
    }
   ],
   "source": [
    "print('Training Error Rate:', net.calculate_error(training_data))\n",
    "print('Test Error Rate:', net.calculate_error(testing_data))"
   ]
  },
  {
   "cell_type": "code",
   "execution_count": 70,
   "id": "39529039-5d91-452f-9afd-378a3b2e1588",
   "metadata": {},
   "outputs": [
    {
     "name": "stderr",
     "output_type": "stream",
     "text": [
      "/tmp/ipykernel_1430474/919550769.py:104: UserWarning: To copy construct from a tensor, it is recommended to use sourceTensor.clone().detach() or sourceTensor.clone().detach().requires_grad_(True), rather than torch.tensor(sourceTensor).\n",
      "  output = self.forward(torch.tensor(features))\n"
     ]
    },
    {
     "name": "stdout",
     "output_type": "stream",
     "text": [
      "18228\n"
     ]
    }
   ],
   "source": [
    "prediction_full = net.bulk_predict(testing_data)"
   ]
  },
  {
   "cell_type": "code",
   "execution_count": 76,
   "id": "45b60691-2367-44a8-a96d-92461945a0c8",
   "metadata": {},
   "outputs": [],
   "source": [
    "true_predictions = [int(j.mos) for i in prediction_full for j in data[i[0]].decisions]\n",
    "predictions = [float(j) for i in prediction_full for j in i[1]]\n",
    "error = sum([int(abs(i - j) > 0.5) for i, j in zip(true_predictions, predictions)]) / len(true_predictions)"
   ]
  },
  {
   "cell_type": "code",
   "execution_count": 81,
   "id": "cd137b72-a507-48d4-8325-3eaea9e4f36b",
   "metadata": {},
   "outputs": [
    {
     "name": "stdout",
     "output_type": "stream",
     "text": [
      "0.4946930706501007\n"
     ]
    }
   ],
   "source": [
    "print(predictions[4])"
   ]
  },
  {
   "cell_type": "code",
   "execution_count": 72,
   "id": "9acfd8e7-0b8c-4fb9-bf62-3497a35a2039",
   "metadata": {},
   "outputs": [
    {
     "data": {
      "text/plain": [
       "<sklearn.metrics._plot.roc_curve.RocCurveDisplay at 0x7f216dc1efe0>"
      ]
     },
     "execution_count": 72,
     "metadata": {},
     "output_type": "execute_result"
    },
    {
     "data": {
      "image/png": "[encoded data removed]",
      "text/plain": [
       "<Figure size 640x480 with 1 Axes>"
      ]
     },
     "metadata": {},
     "output_type": "display_data"
    }
   ],
   "source": [
    "fpr, tpr, thresholds = metrics.roc_curve(true_predictions, predictions)\n",
    "roc_auc = metrics.auc(fpr, tpr)\n",
    "display = metrics.RocCurveDisplay(fpr=fpr, tpr=tpr, roc_auc=roc_auc, estimator_name='Full Guesser')\n",
    "display.plot()"
   ]
  },
  {
   "cell_type": "code",
   "execution_count": 23,
   "id": "1740758d-3733-41a5-adc8-7897b4087655",
   "metadata": {},
   "outputs": [],
   "source": [
    "hp = [j.index for i in data for j in i.team1] + [j.index for i in data for j in i.team2]"
   ]
  },
  {
   "cell_type": "code",
   "execution_count": 24,
   "id": "1e9b8582-6208-4f5d-83ef-f67888075883",
   "metadata": {},
   "outputs": [
    {
     "name": "stdout",
     "output_type": "stream",
     "text": [
      "Landorus\n"
     ]
    },
    {
     "data": {
      "image/png": "[encoded data removed]",
      "text/plain": [
       "<Figure size 640x480 with 1 Axes>"
      ]
     },
     "metadata": {},
     "output_type": "display_data"
    }
   ],
   "source": [
    "plt.title('Number of Pokemon in Unfiltered Data')\n",
    "plt.xlabel('Pokemon Idx')\n",
    "plt.ylabel('Count')\n",
    "import numpy as np\n",
    "\n",
    "test = [0] * (max(hp) + 1)\n",
    "\n",
    "for i in hp:\n",
    "    test[i] += 1\n",
    "    \n",
    "print(pkms[np.argmax(test)])"
   ]
  },
  {
   "cell_type": "code",
   "execution_count": 25,
   "id": "adf8c2ea-d86c-4c2f-b03e-3c32d5a64bfd",
   "metadata": {},
   "outputs": [
    {
     "name": "stdout",
     "output_type": "stream",
     "text": [
      "[80, 119, 147, 168, 191, 267, 339, 462, 470, 476, 485, 488, 506, 541, 579, 581, 622, 659, 686, 712, 715]\n"
     ]
    }
   ],
   "source": [
    "left = [i for i, ele in enumerate(test) if ele > 50000]\n",
    "imap = {ele: i for i, ele in enumerate(left)}\n",
    "\n",
    "print(left)"
   ]
  },
  {
   "cell_type": "code",
   "execution_count": 26,
   "id": "191520de-1d0d-42ef-8abd-60a58f7ac723",
   "metadata": {},
   "outputs": [
    {
     "name": "stdout",
     "output_type": "stream",
     "text": [
      "3726\n"
     ]
    }
   ],
   "source": [
    "result_data = []\n",
    "for i in data:\n",
    "    skip = False\n",
    "    \n",
    "    for j in i.team1:\n",
    "        if j.index not in left and j.hp != 0:\n",
    "            skip = True\n",
    "            \n",
    "    for j in i.team2:\n",
    "        if j.index not in left and j.hp != 0:\n",
    "            skip = True\n",
    "            \n",
    "    if not skip:\n",
    "        result_data.append(i)\n",
    "        \n",
    "print(len(result_data))"
   ]
  },
  {
   "cell_type": "code",
   "execution_count": 27,
   "id": "63d745c8-640c-4e18-9876-7f13d8533ce7",
   "metadata": {},
   "outputs": [],
   "source": [
    "training_data_ratio = 0.6\n",
    "training_data = result_data[:int(len(result_data) * training_data_ratio)]\n",
    "testing_data = result_data[int(len(result_data) * training_data_ratio):]"
   ]
  },
  {
   "cell_type": "code",
   "execution_count": 28,
   "id": "4e6addfb-53ef-44cc-8e11-93af3b56a6af",
   "metadata": {},
   "outputs": [
    {
     "name": "stdout",
     "output_type": "stream",
     "text": [
      "[80, 119, 147, 168, 191, 267, 339, 462, 470, 476, 485, 488, 506, 541, 579, 581, 622, 659, 686, 712, 715]\n"
     ]
    }
   ],
   "source": [
    "print(left)\n",
    "for i in training_data:\n",
    "    for j in i.team1:\n",
    "        if (j.hp == 0):\n",
    "            continue\n",
    "        j.index = imap[j.index]\n",
    "    \n",
    "    for j in i.team2:\n",
    "        if j.hp == 0:\n",
    "            continue\n",
    "        j.index = imap[j.index]"
   ]
  },
  {
   "cell_type": "code",
   "execution_count": 29,
   "id": "7dd03524-f126-4fc6-975c-66ff8785ba19",
   "metadata": {},
   "outputs": [],
   "source": [
    "for i in testing_data:\n",
    "    for j in i.team1:\n",
    "        if (j.hp == 0):\n",
    "            continue\n",
    "        j.index = imap[j.index]\n",
    "    \n",
    "    for j in i.team2:\n",
    "        if j.hp == 0:\n",
    "            continue\n",
    "        j.index = imap[j.index]"
   ]
  },
  {
   "cell_type": "code",
   "execution_count": 49,
   "id": "2c56de87-a7ac-4cc9-b77c-bc8ee8dc3fee",
   "metadata": {},
   "outputs": [
    {
     "name": "stdout",
     "output_type": "stream",
     "text": [
      "2235\n"
     ]
    }
   ],
   "source": [
    "print(len(training_data))"
   ]
  },
  {
   "cell_type": "code",
   "execution_count": 110,
   "id": "7e7b2d0d-3615-40cb-84f0-7663f955a409",
   "metadata": {},
   "outputs": [
    {
     "name": "stderr",
     "output_type": "stream",
     "text": [
      "/tmp/ipykernel_1594541/56488419.py:93: UserWarning: To copy construct from a tensor, it is recommended to use sourceTensor.clone().detach() or sourceTensor.clone().detach().requires_grad_(True), rather than torch.tensor(sourceTensor).\n",
      "  output = self.forward(torch.tensor(features))\n"
     ]
    },
    {
     "name": "stdout",
     "output_type": "stream",
     "text": [
      "tensor([0.5051, 0.4949], grad_fn=<SoftmaxBackward0>)\n"
     ]
    },
    {
     "name": "stderr",
     "output_type": "stream",
     "text": [
      "100%|█████████████████████████████████████████████████████| 500/500 [02:35<00:00,  3.21it/s]\n"
     ]
    },
    {
     "name": "stdout",
     "output_type": "stream",
     "text": [
      "3099 / 4469\n",
      "Training Error Rate: 0.6934437234280599\n",
      "2105 / 2982\n",
      "Test Error Rate: 0.7059020791415158\n"
     ]
    }
   ],
   "source": [
    "net = AttackOrSwitchNN(pkms, moves)\n",
    "d = training_data[0]\n",
    "output = net.predict(d)\n",
    "print(output)\n",
    "int((output[0] > 0.5 and d.decisions[0].mos) or (output[0] < 0.5 and not d.decisions[0].mos))\n",
    "net.train(training_data)\n",
    "print('Training Error Rate:', net.calculate_error(training_data))\n",
    "print('Test Error Rate:', net.calculate_error(testing_data))"
   ]
  },
  {
   "cell_type": "code",
   "execution_count": 111,
   "id": "6751ddbe-1112-414d-914c-c9937cf3cc16",
   "metadata": {},
   "outputs": [
    {
     "name": "stdout",
     "output_type": "stream",
     "text": [
      "0\n"
     ]
    },
    {
     "name": "stderr",
     "output_type": "stream",
     "text": [
      "/tmp/ipykernel_1594541/56488419.py:93: UserWarning: To copy construct from a tensor, it is recommended to use sourceTensor.clone().detach() or sourceTensor.clone().detach().requires_grad_(True), rather than torch.tensor(sourceTensor).\n",
      "  output = self.forward(torch.tensor(features))\n"
     ]
    }
   ],
   "source": [
    "prediction_full = net.bulk_predict(testing_data)"
   ]
  },
  {
   "cell_type": "code",
   "execution_count": 112,
   "id": "7aa573a0-0825-4a7d-9705-8e95b99755a2",
   "metadata": {},
   "outputs": [],
   "source": [
    "true_predictions = [int(j.mos) for i in prediction_full for j in data[i[0]].decisions]\n",
    "predictions = [float(j) for i in prediction_full for j in i[1]]\n",
    "error = sum([int(abs(i - j) > 0.5) for i, j in zip(true_predictions, predictions)]) / len(true_predictions)"
   ]
  },
  {
   "cell_type": "code",
   "execution_count": 113,
   "id": "03d5c077-5486-46eb-97b6-5e97954f4933",
   "metadata": {},
   "outputs": [
    {
     "data": {
      "text/plain": [
       "<sklearn.metrics._plot.roc_curve.RocCurveDisplay at 0x7f337396b730>"
      ]
     },
     "execution_count": 113,
     "metadata": {},
     "output_type": "execute_result"
    },
    {
     "data": {
      "image/png": "[encoded data removed]",
      "text/plain": [
       "<Figure size 640x480 with 1 Axes>"
      ]
     },
     "metadata": {},
     "output_type": "display_data"
    }
   ],
   "source": [
    "fpr, tpr, thresholds = metrics.roc_curve(true_predictions, predictions)\n",
    "roc_auc = metrics.auc(fpr, tpr)\n",
    "display = metrics.RocCurveDisplay(fpr=fpr, tpr=tpr, roc_auc=roc_auc, estimator_name='Full Guesser')\n",
    "display.plot()"
   ]
  }
 ],
 "metadata": {
  "kernelspec": {
   "display_name": "Python 3 (ipykernel)",
   "language": "python",
   "name": "python3"
  },
  "language_info": {
   "codemirror_mode": {
    "name": "ipython",
    "version": 3
   },
   "file_extension": ".py",
   "mimetype": "text/x-python",
   "name": "python",
   "nbconvert_exporter": "python",
   "pygments_lexer": "ipython3",
   "version": "3.10.8"
  }
 },
 "nbformat": 4,
 "nbformat_minor": 5
}
